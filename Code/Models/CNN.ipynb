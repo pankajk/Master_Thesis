{
 "cells": [
  {
   "cell_type": "markdown",
   "execution_count": null,
   "metadata": {
    "_execution_state": "idle",
    "_uuid": "1532bd3ceb3ad8bc266af8d3eb9fe61d7c3ce7ff",
    "collapsed": false
   },
   "outputs": [],
   "source": [
    "我的第一个Kaggle项目，将使用基础的 DNN 模型进行进行数字识别。使用一层 Hidden Layer ，会分别测试 Activation 为 sigmoid 和 tanh 。实现的步骤如下：\n",
    "\n",
    " 1. 从 csv 读取训练数据和测试数据\n",
    " 2. 将数据格式化成训练所需数据\n",
    " 3. 可视化数据\n",
    " 4. 训练模型\n",
    " 5. 评估模型"
   ]
  },
  {
   "cell_type": "code",
   "execution_count": 1,
   "metadata": {
    "_cell_guid": "87b86b16-4be8-495d-91d3-7040583a6f5d",
    "_execution_state": "idle",
    "_uuid": "61efd2683571ae162dad1a535803a9ac7f1c9270",
    "collapsed": false
   },
   "outputs": [
    {
     "name": "stdout",
     "output_type": "stream",
     "text": [
      "test.csv\n",
      "train.csv\n",
      "\n"
     ]
    }
   ],
   "source": [
    "# This Python 3 environment comes with many helpful analytics libraries installed\n",
    "# It is defined by the kaggle/python docker image: https://github.com/kaggle/docker-python\n",
    "# For example, here's several helpful packages to load in \n",
    "\n",
    "import numpy as np # linear algebra\n",
    "import pandas as pd # data processing, CSV file I/O (e.g. pd.read_csv)\n",
    "\n",
    "# Input data files are available in the \"../input/\" directory.\n",
    "# For example, running this (by clicking run or pressing Shift+Enter) will list the files in the input directory\n",
    "\n",
    "from subprocess import check_output\n",
    "print(check_output([\"ls\", \"../input\"]).decode(\"utf8\"))\n",
    "\n",
    "# Any results you write to the current directory are saved as output.\n"
   ]
  },
  {
   "cell_type": "markdown",
   "execution_count": null,
   "metadata": {
    "_execution_state": "idle",
    "_uuid": "ab4bf3fb66c6dfc52bf5243663f2e3a4e62c655a",
    "collapsed": false
   },
   "outputs": [],
   "source": [
    "# 数据处理部分\n",
    "## 从 csv 读取训练和测试数据"
   ]
  },
  {
   "cell_type": "code",
   "execution_count": 2,
   "metadata": {
    "_execution_state": "idle",
    "_uuid": "4b86b4d0cf74dd60bcbe7943f02c2e2a76cea6c9",
    "collapsed": false
   },
   "outputs": [],
   "source": [
    "raw_train = pd.read_csv('../input/train.csv')\n",
    "raw_test = pd.read_csv('../input/test.csv')"
   ]
  },
  {
   "cell_type": "code",
   "execution_count": 3,
   "metadata": {
    "_execution_state": "idle",
    "_uuid": "5fb630e94b106129b09835dfbcd923d065d52219",
    "collapsed": false
   },
   "outputs": [
    {
     "data": {
      "text/html": [
       "<div>\n",
       "<table border=\"1\" class=\"dataframe\">\n",
       "  <thead>\n",
       "    <tr style=\"text-align: right;\">\n",
       "      <th></th>\n",
       "      <th>label</th>\n",
       "      <th>pixel0</th>\n",
       "      <th>pixel1</th>\n",
       "      <th>pixel2</th>\n",
       "      <th>pixel3</th>\n",
       "      <th>pixel4</th>\n",
       "      <th>pixel5</th>\n",
       "      <th>pixel6</th>\n",
       "      <th>pixel7</th>\n",
       "      <th>pixel8</th>\n",
       "      <th>...</th>\n",
       "      <th>pixel774</th>\n",
       "      <th>pixel775</th>\n",
       "      <th>pixel776</th>\n",
       "      <th>pixel777</th>\n",
       "      <th>pixel778</th>\n",
       "      <th>pixel779</th>\n",
       "      <th>pixel780</th>\n",
       "      <th>pixel781</th>\n",
       "      <th>pixel782</th>\n",
       "      <th>pixel783</th>\n",
       "    </tr>\n",
       "  </thead>\n",
       "  <tbody>\n",
       "    <tr>\n",
       "      <th>0</th>\n",
       "      <td>1</td>\n",
       "      <td>0</td>\n",
       "      <td>0</td>\n",
       "      <td>0</td>\n",
       "      <td>0</td>\n",
       "      <td>0</td>\n",
       "      <td>0</td>\n",
       "      <td>0</td>\n",
       "      <td>0</td>\n",
       "      <td>0</td>\n",
       "      <td>...</td>\n",
       "      <td>0</td>\n",
       "      <td>0</td>\n",
       "      <td>0</td>\n",
       "      <td>0</td>\n",
       "      <td>0</td>\n",
       "      <td>0</td>\n",
       "      <td>0</td>\n",
       "      <td>0</td>\n",
       "      <td>0</td>\n",
       "      <td>0</td>\n",
       "    </tr>\n",
       "    <tr>\n",
       "      <th>1</th>\n",
       "      <td>0</td>\n",
       "      <td>0</td>\n",
       "      <td>0</td>\n",
       "      <td>0</td>\n",
       "      <td>0</td>\n",
       "      <td>0</td>\n",
       "      <td>0</td>\n",
       "      <td>0</td>\n",
       "      <td>0</td>\n",
       "      <td>0</td>\n",
       "      <td>...</td>\n",
       "      <td>0</td>\n",
       "      <td>0</td>\n",
       "      <td>0</td>\n",
       "      <td>0</td>\n",
       "      <td>0</td>\n",
       "      <td>0</td>\n",
       "      <td>0</td>\n",
       "      <td>0</td>\n",
       "      <td>0</td>\n",
       "      <td>0</td>\n",
       "    </tr>\n",
       "    <tr>\n",
       "      <th>2</th>\n",
       "      <td>1</td>\n",
       "      <td>0</td>\n",
       "      <td>0</td>\n",
       "      <td>0</td>\n",
       "      <td>0</td>\n",
       "      <td>0</td>\n",
       "      <td>0</td>\n",
       "      <td>0</td>\n",
       "      <td>0</td>\n",
       "      <td>0</td>\n",
       "      <td>...</td>\n",
       "      <td>0</td>\n",
       "      <td>0</td>\n",
       "      <td>0</td>\n",
       "      <td>0</td>\n",
       "      <td>0</td>\n",
       "      <td>0</td>\n",
       "      <td>0</td>\n",
       "      <td>0</td>\n",
       "      <td>0</td>\n",
       "      <td>0</td>\n",
       "    </tr>\n",
       "    <tr>\n",
       "      <th>3</th>\n",
       "      <td>4</td>\n",
       "      <td>0</td>\n",
       "      <td>0</td>\n",
       "      <td>0</td>\n",
       "      <td>0</td>\n",
       "      <td>0</td>\n",
       "      <td>0</td>\n",
       "      <td>0</td>\n",
       "      <td>0</td>\n",
       "      <td>0</td>\n",
       "      <td>...</td>\n",
       "      <td>0</td>\n",
       "      <td>0</td>\n",
       "      <td>0</td>\n",
       "      <td>0</td>\n",
       "      <td>0</td>\n",
       "      <td>0</td>\n",
       "      <td>0</td>\n",
       "      <td>0</td>\n",
       "      <td>0</td>\n",
       "      <td>0</td>\n",
       "    </tr>\n",
       "    <tr>\n",
       "      <th>4</th>\n",
       "      <td>0</td>\n",
       "      <td>0</td>\n",
       "      <td>0</td>\n",
       "      <td>0</td>\n",
       "      <td>0</td>\n",
       "      <td>0</td>\n",
       "      <td>0</td>\n",
       "      <td>0</td>\n",
       "      <td>0</td>\n",
       "      <td>0</td>\n",
       "      <td>...</td>\n",
       "      <td>0</td>\n",
       "      <td>0</td>\n",
       "      <td>0</td>\n",
       "      <td>0</td>\n",
       "      <td>0</td>\n",
       "      <td>0</td>\n",
       "      <td>0</td>\n",
       "      <td>0</td>\n",
       "      <td>0</td>\n",
       "      <td>0</td>\n",
       "    </tr>\n",
       "  </tbody>\n",
       "</table>\n",
       "<p>5 rows × 785 columns</p>\n",
       "</div>"
      ],
      "text/plain": [
       "   label  pixel0  pixel1  pixel2  pixel3  pixel4  pixel5  pixel6  pixel7  \\\n",
       "0      1       0       0       0       0       0       0       0       0   \n",
       "1      0       0       0       0       0       0       0       0       0   \n",
       "2      1       0       0       0       0       0       0       0       0   \n",
       "3      4       0       0       0       0       0       0       0       0   \n",
       "4      0       0       0       0       0       0       0       0       0   \n",
       "\n",
       "   pixel8    ...     pixel774  pixel775  pixel776  pixel777  pixel778  \\\n",
       "0       0    ...            0         0         0         0         0   \n",
       "1       0    ...            0         0         0         0         0   \n",
       "2       0    ...            0         0         0         0         0   \n",
       "3       0    ...            0         0         0         0         0   \n",
       "4       0    ...            0         0         0         0         0   \n",
       "\n",
       "   pixel779  pixel780  pixel781  pixel782  pixel783  \n",
       "0         0         0         0         0         0  \n",
       "1         0         0         0         0         0  \n",
       "2         0         0         0         0         0  \n",
       "3         0         0         0         0         0  \n",
       "4         0         0         0         0         0  \n",
       "\n",
       "[5 rows x 785 columns]"
      ]
     },
     "execution_count": 3,
     "metadata": {},
     "output_type": "execute_result"
    }
   ],
   "source": [
    "raw_train.head()"
   ]
  },
  {
   "cell_type": "markdown",
   "execution_count": null,
   "metadata": {
    "_execution_state": "idle",
    "_uuid": "f40ab0c3ec4af973d579e481f470bd38ad5a10ac",
    "collapsed": false
   },
   "outputs": [],
   "source": [
    "## 分析数据\n",
    "可以看到数据第一列是标签，标记图片内容是数字几。接下来我们将数据原始数据格式化。\n",
    "\n",
    "## 格式化数据为训练所需"
   ]
  },
  {
   "cell_type": "code",
   "execution_count": 4,
   "metadata": {
    "_execution_state": "idle",
    "_uuid": "fd12e9f0169d188ee115b198b52468af0fcf753e",
    "collapsed": false
   },
   "outputs": [
    {
     "name": "stderr",
     "output_type": "stream",
     "text": [
      "Using TensorFlow backend.\n"
     ]
    }
   ],
   "source": [
    "\n",
    "# 将原始数据分为 labels 和 inputs\n",
    "inputs, labels = raw_train.values[:, 1:], raw_train.values[:, 0:1]\n",
    "\n",
    "# 测试数据没有标记label\n",
    "tests = raw_test.values\n",
    "\n",
    "# 打乱数据，抽取部分数据用作 validation \n",
    "import random\n",
    "all_idx = np.arange(inputs.shape[0])\n",
    "random.shuffle(all_idx)\n",
    "train_inputs, train_labels = inputs[all_idx[5000:]], labels[all_idx[5000:]]\n",
    "valid_inputs, valid_labels = inputs[all_idx[0:5000]],labels[all_idx[0:5000]]\n",
    "\n",
    "# 对标签进行 one hot 处理\n",
    "from keras.utils import to_categorical\n",
    "one_hot_train_labels = to_categorical(train_labels, num_classes=10)\n",
    "one_hot_valid_labels = to_categorical(valid_labels, num_classes=10)"
   ]
  },
  {
   "cell_type": "markdown",
   "execution_count": null,
   "metadata": {
    "_execution_state": "idle",
    "_uuid": "5af6acff4060f8e7b811369505b09b15a83d86e7",
    "collapsed": false
   },
   "outputs": [],
   "source": [
    "## 可视化数据"
   ]
  },
  {
   "cell_type": "code",
   "execution_count": 5,
   "metadata": {
    "_execution_state": "idle",
    "_uuid": "b7794aadbdcf67cf95db7aa65e36488b9453d0da",
    "collapsed": false
   },
   "outputs": [],
   "source": [
    "# 展示数据\n",
    "import matplotlib.pyplot as plt\n",
    "def view_sample(index):\n",
    "    plt.imshow(train_inputs[index].reshape(28,28))\n",
    "    plt.title(train_labels[index])\n",
    "    plt.show()"
   ]
  },
  {
   "cell_type": "code",
   "execution_count": 6,
   "metadata": {
    "_execution_state": "idle",
    "_uuid": "ca78cd97358cd547cf8ddd780074dfa8ee35bb8b",
    "collapsed": false
   },
   "outputs": [
    {
     "data": {
      "image/png": "[encoded data removed]",
      "text/plain": [
       "<matplotlib.figure.Figure at 0x7eff7df030f0>"
      ]
     },
     "metadata": {},
     "output_type": "display_data"
    }
   ],
   "source": [
    "view_sample(10)"
   ]
  },
  {
   "cell_type": "markdown",
   "execution_count": null,
   "metadata": {
    "_execution_state": "idle",
    "_uuid": "cadd447c307641e4f767737a344d6ea1edc65958",
    "collapsed": false
   },
   "outputs": [],
   "source": [
    "# 构造模型\n",
    "\n",
    "## 导入必须的库"
   ]
  },
  {
   "cell_type": "code",
   "execution_count": 7,
   "metadata": {
    "_execution_state": "idle",
    "_uuid": "b60172b781aae76b4d34ac8863fe4ca177ddadbf",
    "collapsed": false
   },
   "outputs": [],
   "source": [
    "from keras.models import Sequential\n",
    "from keras.layers import Dense, Activation"
   ]
  },
  {
   "cell_type": "code",
   "execution_count": 8,
   "metadata": {
    "_execution_state": "idle",
    "_uuid": "527bb58050141b18281e9f8bb0c1adc29d09b9e0",
    "collapsed": false
   },
   "outputs": [],
   "source": [
    "model_sigmoid = Sequential()\n",
    "model_sigmoid.add(Dense(1024, activation='sigmoid', input_dim=784))\n",
    "model_sigmoid.add(Dense(10, activation='softmax'))\n",
    "model_sigmoid.compile(optimizer='rmsprop',\n",
    "              loss='categorical_crossentropy',\n",
    "              metrics=['accuracy']\n",
    ")"
   ]
  },
  {
   "cell_type": "code",
   "execution_count": 9,
   "metadata": {
    "_execution_state": "idle",
    "_uuid": "bae83ae58db05c210a7ebfa59707c2245f62acd2",
    "collapsed": false
   },
   "outputs": [
    {
     "name": "stdout",
     "output_type": "stream",
     "text": [
      "Epoch 1/10\n",
      "37000/37000 [==============================] - 6s - loss: 0.4151 - acc: 0.8808     \n",
      "Epoch 2/10\n",
      "37000/37000 [==============================] - 7s - loss: 0.2214 - acc: 0.9355     \n",
      "Epoch 3/10\n",
      "37000/37000 [==============================] - 7s - loss: 0.1813 - acc: 0.9459     \n",
      "Epoch 4/10\n",
      "37000/37000 [==============================] - 7s - loss: 0.1561 - acc: 0.9531     \n",
      "Epoch 5/10\n",
      "37000/37000 [==============================] - 6s - loss: 0.1411 - acc: 0.9582     \n",
      "Epoch 6/10\n",
      "37000/37000 [==============================] - 6s - loss: 0.1254 - acc: 0.9628     \n",
      "Epoch 7/10\n",
      "37000/37000 [==============================] - 6s - loss: 0.1161 - acc: 0.9655     \n",
      "Epoch 8/10\n",
      "37000/37000 [==============================] - 6s - loss: 0.1084 - acc: 0.9673     \n",
      "Epoch 9/10\n",
      "37000/37000 [==============================] - 7s - loss: 0.1021 - acc: 0.9690     \n",
      "Epoch 10/10\n",
      "37000/37000 [==============================] - 7s - loss: 0.0950 - acc: 0.9718     \n"
     ]
    },
    {
     "data": {
      "text/plain": [
       "<keras.callbacks.History at 0x7eff3b630f28>"
      ]
     },
     "execution_count": 9,
     "metadata": {},
     "output_type": "execute_result"
    }
   ],
   "source": [
    "# 训练数据\n",
    "model_sigmoid.fit(train_inputs, one_hot_train_labels, epochs=10, batch_size=256)"
   ]
  },
  {
   "cell_type": "code",
   "execution_count": 10,
   "metadata": {
    "_execution_state": "idle",
    "_uuid": "1e36f7b1caaeb3076c6810a55515cc3d3c5719c3",
    "collapsed": false
   },
   "outputs": [
    {
     "name": "stdout",
     "output_type": "stream",
     "text": [
      "4480/5000 [=========================>....] - ETA: 0s[0.11717131949961185, 0.964200007724762]\n"
     ]
    }
   ],
   "source": [
    "score = model_sigmoid.evaluate(valid_inputs, one_hot_valid_labels, batch_size=56)\n",
    "print(score)"
   ]
  },
  {
   "cell_type": "markdown",
   "execution_count": null,
   "metadata": {
    "_execution_state": "idle",
    "_uuid": "ae971f8642cc0598429648c8d23292648672e080",
    "collapsed": false
   },
   "outputs": [],
   "source": [
    "## 修改 Hidden Layer 的 activation 为tanh"
   ]
  },
  {
   "cell_type": "code",
   "execution_count": 11,
   "metadata": {
    "_execution_state": "idle",
    "_uuid": "29e475caf69cb6762c5b8239601e89ae35fdbecf",
    "collapsed": false
   },
   "outputs": [],
   "source": [
    "model_tanh = Sequential()\n",
    "model_tanh.add(Dense(1024, activation='tanh', input_dim=784))\n",
    "model_tanh.add(Dense(10, activation='softmax'))\n",
    "model_tanh.compile(optimizer='rmsprop',\n",
    "              loss='categorical_crossentropy',\n",
    "              metrics=['accuracy']\n",
    ")"
   ]
  },
  {
   "cell_type": "code",
   "execution_count": 12,
   "metadata": {
    "_execution_state": "idle",
    "_uuid": "e54c6add40180439bff2377ad47967b6d2ddc9e5",
    "collapsed": false
   },
   "outputs": [
    {
     "name": "stdout",
     "output_type": "stream",
     "text": [
      "Epoch 1/10\n",
      "37000/37000 [==============================] - 7s - loss: 0.4261 - acc: 0.8702     \n",
      "Epoch 2/10\n",
      "37000/37000 [==============================] - 7s - loss: 0.2560 - acc: 0.9216     \n",
      "Epoch 3/10\n",
      "37000/37000 [==============================] - 7s - loss: 0.2155 - acc: 0.9336     \n",
      "Epoch 4/10\n",
      "37000/37000 [==============================] - 7s - loss: 0.1864 - acc: 0.9434     \n",
      "Epoch 5/10\n",
      "37000/37000 [==============================] - 7s - loss: 0.1700 - acc: 0.9488     \n",
      "Epoch 6/10\n",
      "37000/37000 [==============================] - 7s - loss: 0.1586 - acc: 0.9520     \n",
      "Epoch 7/10\n",
      "37000/37000 [==============================] - 7s - loss: 0.1460 - acc: 0.9563     \n",
      "Epoch 8/10\n",
      "37000/37000 [==============================] - 7s - loss: 0.1382 - acc: 0.9588     \n",
      "Epoch 9/10\n",
      "37000/37000 [==============================] - 6s - loss: 0.1317 - acc: 0.9597     \n",
      "Epoch 10/10\n",
      "37000/37000 [==============================] - 6s - loss: 0.1248 - acc: 0.9627     \n"
     ]
    },
    {
     "data": {
      "text/plain": [
       "<keras.callbacks.History at 0x7eff45129668>"
      ]
     },
     "execution_count": 12,
     "metadata": {},
     "output_type": "execute_result"
    }
   ],
   "source": [
    "model_tanh.fit(train_inputs, one_hot_train_labels, epochs=10, batch_size=256)\n"
   ]
  },
  {
   "cell_type": "code",
   "execution_count": 13,
   "metadata": {
    "_execution_state": "idle",
    "_uuid": "66bb7f4319fe1d9880ead1483b66974fdd4e0dc6",
    "collapsed": false
   },
   "outputs": [
    {
     "name": "stdout",
     "output_type": "stream",
     "text": [
      "4096/5000 [=======================>......] - ETA: 0s[0.13647822144031524, 0.95720000000000005]\n"
     ]
    }
   ],
   "source": [
    "score = model_tanh.evaluate(valid_inputs, one_hot_valid_labels, batch_size=128)\n",
    "print(score)"
   ]
  },
  {
   "cell_type": "markdown",
   "execution_count": 36,
   "metadata": {
    "_execution_state": "idle",
    "_uuid": "02a781f4ca8cda7b5f6b2b480c9e44c45a2db89f",
    "collapsed": false
   },
   "outputs": [],
   "source": [
    "# 提交结果"
   ]
  },
  {
   "cell_type": "code",
   "execution_count": 14,
   "metadata": {
    "_execution_state": "idle",
    "_uuid": "2ed8a5641d5489aa17b58bff5938977b6d3f7bd1",
    "collapsed": false
   },
   "outputs": [
    {
     "name": "stdout",
     "output_type": "stream",
     "text": [
      "27424/28000 [============================>.] - ETA: 0s   ImageId  Label\n",
      "0        1      2\n",
      "1        2      0\n",
      "2        3      9\n",
      "3        4      9\n",
      "4        5      3\n",
      "5        6      7\n",
      "6        7      0\n",
      "7        8      3\n",
      "8        9      0\n",
      "9       10      3\n"
     ]
    }
   ],
   "source": [
    "id = np.arange(1,28001)\n",
    "pred_classes = model_sigmoid.predict_classes(tests)\n",
    "\n",
    "submission = pd.DataFrame({\n",
    "    \"ImageId\": id,\n",
    "    \"Label\": pred_classes})\n",
    "\n",
    "print(submission[0:10])\n",
    "\n",
    "submission.to_csv('predictions.csv', index=False)"
   ]
  },
  {
   "cell_type": "code",
   "execution_count": 15,
   "metadata": {
    "_execution_state": "idle",
    "_uuid": "36a538cfdbb64c9fe8070d75957a971bf22f8038",
    "collapsed": false
   },
   "outputs": [],
   "source": []
  }
 ],
 "metadata": {
  "kernelspec": {
   "display_name": "Python 3",
   "language": "python",
   "name": "python3"
  },
  "language_info": {
   "codemirror_mode": {
    "name": "ipython",
    "version": 3
   },
   "file_extension": ".py",
   "mimetype": "text/x-python",
   "name": "python",
   "nbconvert_exporter": "python",
   "pygments_lexer": "ipython3",
   "version": "3.6.0"
  }
 },
 "nbformat": 4,
 "nbformat_minor": 0
}
